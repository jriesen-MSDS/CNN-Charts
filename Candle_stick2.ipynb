{
 "cells": [
  {
   "cell_type": "code",
   "execution_count": null,
   "metadata": {
    "colab": {
     "base_uri": "https://localhost:8080/",
     "height": 245
    },
    "colab_type": "code",
    "executionInfo": {
     "elapsed": 6087,
     "status": "ok",
     "timestamp": 1596324927381,
     "user": {
      "displayName": "hurumori lion",
      "photoUrl": "https://lh3.googleusercontent.com/a-/AOh14GhdS7vZU8_k_9mABC9CpOOAW6yzdTANwM8ukHCk=s64",
      "userId": "15572795402390119545"
     },
     "user_tz": -540
    },
    "id": "IQgEVIvarDIT",
    "outputId": "79cb94c6-e638-4fe0-fe89-4f38bcb38165"
   },
   "outputs": [],
   "source": [
    "! pip install mplfinance"
   ]
  },
  {
   "cell_type": "code",
   "execution_count": null,
   "metadata": {
    "colab": {
     "base_uri": "https://localhost:8080/",
     "height": 342
    },
    "colab_type": "code",
    "executionInfo": {
     "elapsed": 5904,
     "status": "ok",
     "timestamp": 1596324992317,
     "user": {
      "displayName": "hurumori lion",
      "photoUrl": "https://lh3.googleusercontent.com/a-/AOh14GhdS7vZU8_k_9mABC9CpOOAW6yzdTANwM8ukHCk=s64",
      "userId": "15572795402390119545"
     },
     "user_tz": -540
    },
    "id": "Q1mbMh9dq0dU",
    "outputId": "2a90fd54-d71b-417f-e354-0db7e75571b6"
   },
   "outputs": [],
   "source": [
    "! pip install yfinance"
   ]
  },
  {
   "cell_type": "code",
   "execution_count": 1,
   "metadata": {
    "colab": {
     "base_uri": "https://localhost:8080/",
     "height": 50
    },
    "colab_type": "code",
    "executionInfo": {
     "elapsed": 790,
     "status": "ok",
     "timestamp": 1596325522928,
     "user": {
      "displayName": "hurumori lion",
      "photoUrl": "https://lh3.googleusercontent.com/a-/AOh14GhdS7vZU8_k_9mABC9CpOOAW6yzdTANwM8ukHCk=s64",
      "userId": "15572795402390119545"
     },
     "user_tz": -540
    },
    "id": "kSzzkkIAqvvv",
    "outputId": "97a351cd-2e7b-4aaa-8fea-809986dee760"
   },
   "outputs": [],
   "source": [
    "import numpy as np\n",
    "import pandas as pd\n",
    "import datetime as dt\n",
    "import seaborn as sns\n",
    "import requests\n",
    "import yfinance as yf\n",
    "import mplfinance as mpf\n",
    "import matplotlib.pyplot as plt\n",
    "import datetime "
   ]
  },
  {
   "cell_type": "code",
   "execution_count": 3,
   "metadata": {
    "colab": {},
    "colab_type": "code",
    "executionInfo": {
     "elapsed": 592,
     "status": "ok",
     "timestamp": 1596325526025,
     "user": {
      "displayName": "hurumori lion",
      "photoUrl": "https://lh3.googleusercontent.com/a-/AOh14GhdS7vZU8_k_9mABC9CpOOAW6yzdTANwM8ukHCk=s64",
      "userId": "15572795402390119545"
     },
     "user_tz": -540
    },
    "id": "FCb8uVIZrJGa"
   },
   "outputs": [],
   "source": [
    "# set tickers\n",
    "# tickers = [\"^GSPC\", \"EURUSD=X\", \"USDJPY=X\"]\n",
    "tickers = \"SPY\"\n",
    "# set the start date and end date\n",
    "start = \"1985-01-01\"\n",
    "end = \"2020-06-30\""
   ]
  },
  {
   "cell_type": "code",
   "execution_count": 2,
   "metadata": {
    "colab": {
     "base_uri": "https://localhost:8080/",
     "height": 33
    },
    "colab_type": "code",
    "executionInfo": {
     "elapsed": 912,
     "status": "ok",
     "timestamp": 1596325528006,
     "user": {
      "displayName": "hurumori lion",
      "photoUrl": "https://lh3.googleusercontent.com/a-/AOh14GhdS7vZU8_k_9mABC9CpOOAW6yzdTANwM8ukHCk=s64",
      "userId": "15572795402390119545"
     },
     "user_tz": -540
    },
    "id": "uKcQPlyorLNn",
    "outputId": "26709564-10bb-40e4-89af-bd14bbe5470b"
   },
   "outputs": [
    {
     "name": "stdout",
     "output_type": "stream",
     "text": [
      "[*********************100%***********************]  1 of 1 completed\n"
     ]
    }
   ],
   "source": [
    "df =  yf.download(\"SPY\", start=\"1985-01-01\", end=\"2020-06-30\")"
   ]
  },
  {
   "cell_type": "code",
   "execution_count": 4,
   "metadata": {},
   "outputs": [
    {
     "data": {
      "text/html": [
       "<div>\n",
       "<style scoped>\n",
       "    .dataframe tbody tr th:only-of-type {\n",
       "        vertical-align: middle;\n",
       "    }\n",
       "\n",
       "    .dataframe tbody tr th {\n",
       "        vertical-align: top;\n",
       "    }\n",
       "\n",
       "    .dataframe thead th {\n",
       "        text-align: right;\n",
       "    }\n",
       "</style>\n",
       "<table border=\"1\" class=\"dataframe\">\n",
       "  <thead>\n",
       "    <tr style=\"text-align: right;\">\n",
       "      <th></th>\n",
       "      <th>Open</th>\n",
       "      <th>High</th>\n",
       "      <th>Low</th>\n",
       "      <th>Close</th>\n",
       "      <th>Adj Close</th>\n",
       "      <th>Volume</th>\n",
       "    </tr>\n",
       "    <tr>\n",
       "      <th>Date</th>\n",
       "      <th></th>\n",
       "      <th></th>\n",
       "      <th></th>\n",
       "      <th></th>\n",
       "      <th></th>\n",
       "      <th></th>\n",
       "    </tr>\n",
       "  </thead>\n",
       "  <tbody>\n",
       "    <tr>\n",
       "      <th>2020-06-23</th>\n",
       "      <td>313.489990</td>\n",
       "      <td>314.500000</td>\n",
       "      <td>311.609985</td>\n",
       "      <td>312.049988</td>\n",
       "      <td>309.486603</td>\n",
       "      <td>68471200</td>\n",
       "    </tr>\n",
       "    <tr>\n",
       "      <th>2020-06-24</th>\n",
       "      <td>309.839996</td>\n",
       "      <td>310.510010</td>\n",
       "      <td>302.100006</td>\n",
       "      <td>304.089996</td>\n",
       "      <td>301.592010</td>\n",
       "      <td>132813500</td>\n",
       "    </tr>\n",
       "    <tr>\n",
       "      <th>2020-06-25</th>\n",
       "      <td>303.470001</td>\n",
       "      <td>307.640015</td>\n",
       "      <td>301.279999</td>\n",
       "      <td>307.350006</td>\n",
       "      <td>304.825226</td>\n",
       "      <td>89468000</td>\n",
       "    </tr>\n",
       "    <tr>\n",
       "      <th>2020-06-26</th>\n",
       "      <td>306.160004</td>\n",
       "      <td>306.390015</td>\n",
       "      <td>299.420013</td>\n",
       "      <td>300.049988</td>\n",
       "      <td>297.585205</td>\n",
       "      <td>127961000</td>\n",
       "    </tr>\n",
       "    <tr>\n",
       "      <th>2020-06-29</th>\n",
       "      <td>301.410004</td>\n",
       "      <td>304.609985</td>\n",
       "      <td>298.929993</td>\n",
       "      <td>304.459991</td>\n",
       "      <td>301.958954</td>\n",
       "      <td>79773300</td>\n",
       "    </tr>\n",
       "  </tbody>\n",
       "</table>\n",
       "</div>"
      ],
      "text/plain": [
       "                  Open        High         Low       Close   Adj Close  \\\n",
       "Date                                                                     \n",
       "2020-06-23  313.489990  314.500000  311.609985  312.049988  309.486603   \n",
       "2020-06-24  309.839996  310.510010  302.100006  304.089996  301.592010   \n",
       "2020-06-25  303.470001  307.640015  301.279999  307.350006  304.825226   \n",
       "2020-06-26  306.160004  306.390015  299.420013  300.049988  297.585205   \n",
       "2020-06-29  301.410004  304.609985  298.929993  304.459991  301.958954   \n",
       "\n",
       "               Volume  \n",
       "Date                   \n",
       "2020-06-23   68471200  \n",
       "2020-06-24  132813500  \n",
       "2020-06-25   89468000  \n",
       "2020-06-26  127961000  \n",
       "2020-06-29   79773300  "
      ]
     },
     "execution_count": 4,
     "metadata": {},
     "output_type": "execute_result"
    }
   ],
   "source": [
    "df.tail()"
   ]
  },
  {
   "cell_type": "code",
   "execution_count": 5,
   "metadata": {
    "colab": {},
    "colab_type": "code",
    "executionInfo": {
     "elapsed": 540,
     "status": "ok",
     "timestamp": 1596325531598,
     "user": {
      "displayName": "hurumori lion",
      "photoUrl": "https://lh3.googleusercontent.com/a-/AOh14GhdS7vZU8_k_9mABC9CpOOAW6yzdTANwM8ukHCk=s64",
      "userId": "15572795402390119545"
     },
     "user_tz": -540
    },
    "id": "eWDUGPrsiOKW"
   },
   "outputs": [],
   "source": [
    "# split the dataset into trainset and test\n",
    "# The last 4 years is the test set  \n",
    "test_df = df[-252*4:]\n",
    "train_df = df[:len(df) - 252*4]"
   ]
  },
  {
   "cell_type": "code",
   "execution_count": 16,
   "metadata": {},
   "outputs": [
    {
     "data": {
      "text/html": [
       "<div>\n",
       "<style scoped>\n",
       "    .dataframe tbody tr th:only-of-type {\n",
       "        vertical-align: middle;\n",
       "    }\n",
       "\n",
       "    .dataframe tbody tr th {\n",
       "        vertical-align: top;\n",
       "    }\n",
       "\n",
       "    .dataframe thead th {\n",
       "        text-align: right;\n",
       "    }\n",
       "</style>\n",
       "<table border=\"1\" class=\"dataframe\">\n",
       "  <thead>\n",
       "    <tr style=\"text-align: right;\">\n",
       "      <th></th>\n",
       "      <th>Open</th>\n",
       "      <th>High</th>\n",
       "      <th>Low</th>\n",
       "      <th>Close</th>\n",
       "      <th>Adj Close</th>\n",
       "      <th>Volume</th>\n",
       "    </tr>\n",
       "    <tr>\n",
       "      <th>Date</th>\n",
       "      <th></th>\n",
       "      <th></th>\n",
       "      <th></th>\n",
       "      <th></th>\n",
       "      <th></th>\n",
       "      <th></th>\n",
       "    </tr>\n",
       "  </thead>\n",
       "  <tbody>\n",
       "    <tr>\n",
       "      <th>1993-01-29</th>\n",
       "      <td>43.96875</td>\n",
       "      <td>43.96875</td>\n",
       "      <td>43.75000</td>\n",
       "      <td>43.93750</td>\n",
       "      <td>25.968958</td>\n",
       "      <td>1003200</td>\n",
       "    </tr>\n",
       "    <tr>\n",
       "      <th>1993-02-01</th>\n",
       "      <td>43.96875</td>\n",
       "      <td>44.25000</td>\n",
       "      <td>43.96875</td>\n",
       "      <td>44.25000</td>\n",
       "      <td>26.153660</td>\n",
       "      <td>480500</td>\n",
       "    </tr>\n",
       "    <tr>\n",
       "      <th>1993-02-02</th>\n",
       "      <td>44.21875</td>\n",
       "      <td>44.37500</td>\n",
       "      <td>44.12500</td>\n",
       "      <td>44.34375</td>\n",
       "      <td>26.209057</td>\n",
       "      <td>201300</td>\n",
       "    </tr>\n",
       "    <tr>\n",
       "      <th>1993-02-03</th>\n",
       "      <td>44.40625</td>\n",
       "      <td>44.84375</td>\n",
       "      <td>44.37500</td>\n",
       "      <td>44.81250</td>\n",
       "      <td>26.486113</td>\n",
       "      <td>529400</td>\n",
       "    </tr>\n",
       "    <tr>\n",
       "      <th>1993-02-04</th>\n",
       "      <td>44.96875</td>\n",
       "      <td>45.09375</td>\n",
       "      <td>44.46875</td>\n",
       "      <td>45.00000</td>\n",
       "      <td>26.596937</td>\n",
       "      <td>531500</td>\n",
       "    </tr>\n",
       "  </tbody>\n",
       "</table>\n",
       "</div>"
      ],
      "text/plain": [
       "                Open      High       Low     Close  Adj Close   Volume\n",
       "Date                                                                  \n",
       "1993-01-29  43.96875  43.96875  43.75000  43.93750  25.968958  1003200\n",
       "1993-02-01  43.96875  44.25000  43.96875  44.25000  26.153660   480500\n",
       "1993-02-02  44.21875  44.37500  44.12500  44.34375  26.209057   201300\n",
       "1993-02-03  44.40625  44.84375  44.37500  44.81250  26.486113   529400\n",
       "1993-02-04  44.96875  45.09375  44.46875  45.00000  26.596937   531500"
      ]
     },
     "execution_count": 16,
     "metadata": {},
     "output_type": "execute_result"
    }
   ],
   "source": [
    "train_df.head()"
   ]
  },
  {
   "cell_type": "code",
   "execution_count": 53,
   "metadata": {
    "colab": {},
    "colab_type": "code",
    "executionInfo": {
     "elapsed": 577,
     "status": "ok",
     "timestamp": 1596325535332,
     "user": {
      "displayName": "hurumori lion",
      "photoUrl": "https://lh3.googleusercontent.com/a-/AOh14GhdS7vZU8_k_9mABC9CpOOAW6yzdTANwM8ukHCk=s64",
      "userId": "15572795402390119545"
     },
     "user_tz": -540
    },
    "id": "i-EHWT8aBLbq"
   },
   "outputs": [],
   "source": [
    "# A function to return the start dates array\n",
    "def start_dates(dframe, df_start, term_days, ahead_days):\n",
    "    return np.arange(0, len(dframe)-term_days - ahead_days, int(term_days/3)) # 10 days sliding\n",
    "    \n"
   ]
  },
  {
   "cell_type": "code",
   "execution_count": 54,
   "metadata": {
    "colab": {},
    "colab_type": "code",
    "id": "vWUev6BFbZGL"
   },
   "outputs": [],
   "source": [
    "# Not used yet\n",
    "# A function to compute the momemtum return\n",
    "# This function works only inside the candle_stick function\n",
    "def momentum_ret(df_start, term_days, ahead_days):\n",
    "    # set the start date and ending date\n",
    "    df_start = df_start\n",
    "    df_end = df_start + term_days\n",
    "    df_flag_date = df_end + ahead_days\n",
    "\n",
    "    # set the starting date to determine the momentum factor\n",
    "    df_mom_start = df_end - 5\n",
    "\n",
    "    # grab the price\n",
    "    mom_start_price = df[df_mom_start:df_mom_start+1].Close.values \n",
    "    final_price = df[df_end:df_end+1].Close.values\n",
    "    flag_price = df[df_flag_date:df_flag_date+1].Close.values\n",
    "\n",
    "    # set the strategy and compute the return\n",
    "    if final_price > mom_start_price*1.05:\n",
    "        strategy = \"long\"\n",
    "        profit = (flag_price - final_price) / final_price\n",
    "\n",
    "    elif final_price < mom_start_price*0.95:\n",
    "        strategy = \"short\"\n",
    "        profit = (final_price - flag_price) / final_price\n",
    "\n",
    "    else:\n",
    "        strategy = \"no position\"\n",
    "        profit = 0\n",
    "\n",
    "    return(strategy, profit)"
   ]
  },
  {
   "cell_type": "code",
   "execution_count": 55,
   "metadata": {
    "colab": {},
    "colab_type": "code",
    "executionInfo": {
     "elapsed": 556,
     "status": "ok",
     "timestamp": 1596325544348,
     "user": {
      "displayName": "hurumori lion",
      "photoUrl": "https://lh3.googleusercontent.com/a-/AOh14GhdS7vZU8_k_9mABC9CpOOAW6yzdTANwM8ukHCk=s64",
      "userId": "15572795402390119545"
     },
     "user_tz": -540
    },
    "id": "MlG_zlznzwEs"
   },
   "outputs": [],
   "source": [
    "# A function to return the flag(up, flat, or down)\n",
    "# This function works only inside the candle_stick function\n",
    "def three_flags(df_start, term_days, ahead_days):\n",
    "    df_start = df_start\n",
    "    df_end = df_start + term_days\n",
    "    df_flag_date = df_end + ahead_days \n",
    "    final_price = df[df_end:df_end+1].Close.values\n",
    "    flag_price = df[df_flag_date:df_flag_date+1].Close.values\n",
    "\n",
    "    if flag_price > final_price*1.005:\n",
    "        flag = \"up\"\n",
    "    elif flag_price < final_price*0.995:\n",
    "        flag = \"down\"\n",
    "    else:\n",
    "        flag = \"flat\"\n",
    "\n",
    "    return flag"
   ]
  },
  {
   "cell_type": "code",
   "execution_count": 68,
   "metadata": {
    "colab": {},
    "colab_type": "code",
    "executionInfo": {
     "elapsed": 542,
     "status": "ok",
     "timestamp": 1596325558084,
     "user": {
      "displayName": "hurumori lion",
      "photoUrl": "https://lh3.googleusercontent.com/a-/AOh14GhdS7vZU8_k_9mABC9CpOOAW6yzdTANwM8ukHCk=s64",
      "userId": "15572795402390119545"
     },
     "user_tz": -540
    },
    "id": "BGr-xW6IrUHx"
   },
   "outputs": [],
   "source": [
    "# A function to create a candle_stick with MA25 and store it to a directory with the first date in its file name\n",
    "# pass dataframe from the yfinace as the first argument\n",
    "# The 2nd argument is the start_date index of the datafrtame\n",
    "# The 3rd argument is the term of the subset dataframe, i.e. set 30 for 30 days\n",
    "# The 4th argument is the forecaset period, i.e. set 3 for 3 days ahead foracasting\n",
    "# Set \"train\" or \"test\" for the 5th argument  \n",
    "def candle_stick(dframe, df_start, term_days, ahead_days,test_or_train):\n",
    "    \n",
    "    df_start = df_start\n",
    "    df_end = df_start + term_days\n",
    "\n",
    "    df = dframe[df_start:df_end]\n",
    "\n",
    "    # grab the first date in the dataframe\n",
    "    date_from = str(df.index[0])[:10]\n",
    "  \n",
    "    # extract the rows from the original dataframe\n",
    "    df = df[['Open', 'High', 'Low', 'Close', 'Volume']]\n",
    "      \n",
    "    # rename the columns \n",
    "    df.columns = ['Open', 'High', 'Low', 'Close', 'Volume']\n",
    "  \n",
    "    # params for the candle stick\n",
    "    mc = mpf.make_marketcolors(up='g',down='r')\n",
    "    s  = mpf.make_mpf_style(marketcolors=mc)\n",
    "\n",
    "    # grab the flag by the three_flags fuinction\n",
    "    flag = three_flags(df_start, term_days, ahead_days)\n",
    "\n",
    "    # momentum function \n",
    "    strategy, profit = momentum_ret(df_start, term_days, ahead_days)\n",
    "\n",
    "    # set the directory acoroding to the flag(up,flat, or down)\n",
    "    # store the image data to a different directory\n",
    "    dir = flag + \"_data\" \n",
    "  \n",
    "    # return the plot and save it to a specific directory with unique file name\n",
    "    # mount on google drive before run this code or you can set other local directory\n",
    "    # To run a classifier we should either inculde the flag (up, down, or flat) in the file name \n",
    "    # or store the files in different directories according to its flag\n",
    "    # Change the data_# number to store the data into different directories\n",
    "    return mpf.plot(df,type='candle', mav=13, style=s, figratio=(15,15),savefig='./capstone_data/{}_data_1/{}/{}_mpf_candle_{}.png'.format(test_or_train, dir,flag,date_from))\n",
    "    f = open('{0}.csv'.format(flag), 'wb')\n",
    "    "
   ]
  },
  {
   "cell_type": "markdown",
   "metadata": {
    "colab_type": "text",
    "id": "SbP8zNBNo25M"
   },
   "source": [
    " Execute the funtion"
   ]
  },
  {
   "cell_type": "markdown",
   "metadata": {
    "colab_type": "text",
    "id": "4VSPcsGi1qbf"
   },
   "source": [
    "Five days ahead"
   ]
  },
  {
   "cell_type": "code",
   "execution_count": 66,
   "metadata": {
    "colab": {},
    "colab_type": "code",
    "id": "iEUOCnCO1v52"
   },
   "outputs": [],
   "source": [
    "# Train_set\n",
    "# Loop over the train set\n",
    "# Three days ahead\n",
    "for i_date in start_dates(train_df,0,30,5):\n",
    "    # execute the function, create candle stick charts and store into the directory\n",
    "    candle_stick(train_df,i_date,30,5,\"train\")"
   ]
  },
  {
   "cell_type": "code",
   "execution_count": 67,
   "metadata": {
    "colab": {},
    "colab_type": "code",
    "id": "I7srYJ291vrY"
   },
   "outputs": [],
   "source": [
    "# Test_set\n",
    "# Loop over the test set\n",
    "# Three days ahead\n",
    "for i_date in start_dates(test_df,0,30,5):\n",
    "    # execute the function, create candle stick charts and store into the directory\n",
    "    candle_stick(test_df,i_date,30,5,\"test\")"
   ]
  },
  {
   "cell_type": "markdown",
   "metadata": {
    "colab_type": "text",
    "id": "v8hOC5F3rVGM"
   },
   "source": [
    "Three days ahead"
   ]
  },
  {
   "cell_type": "code",
   "execution_count": 62,
   "metadata": {
    "colab": {},
    "colab_type": "code",
    "id": "tdmHTL8JEbUj"
   },
   "outputs": [],
   "source": [
    "# Train_set\n",
    "# Loop over the train set\n",
    "# Three days ahead\n",
    "for i_date in start_dates(train_df, 0, 30, 3):\n",
    "    candle_stick(train_df,i_date,30,3,\"train\")"
   ]
  },
  {
   "cell_type": "code",
   "execution_count": 59,
   "metadata": {
    "colab": {},
    "colab_type": "code",
    "id": "IoY6VYBVpS74"
   },
   "outputs": [],
   "source": [
    "# Test_set\n",
    "# Loop over the test set\n",
    "# Three days ahead\n",
    "for i_date in start_dates(test_df, 0, 30, 3):\n",
    "    # execute the function, create candle stick charts and store into the directory\n",
    "    candle_stick(test_df,i_date,30,3,\"test\")"
   ]
  },
  {
   "cell_type": "markdown",
   "metadata": {
    "colab_type": "text",
    "id": "CbDJTQvLrRn5"
   },
   "source": [
    "One day ahead"
   ]
  },
  {
   "cell_type": "code",
   "execution_count": 69,
   "metadata": {
    "colab": {},
    "colab_type": "code",
    "id": "R3-ZTr1krEaU"
   },
   "outputs": [],
   "source": [
    "# Train_set\n",
    "# Loop over the train set\n",
    "# One days ahead\n",
    "for i_date in start_dates(train_df,0,30,1):\n",
    "    # execute the function, create candle stick charts and store into the directory\n",
    "    candle_stick(train_df,i_date,30,1,\"train\")"
   ]
  },
  {
   "cell_type": "code",
   "execution_count": 71,
   "metadata": {
    "colab": {},
    "colab_type": "code",
    "id": "GlD0flNfrEH7"
   },
   "outputs": [],
   "source": [
    "# Test_set\n",
    "# Loop over the test set\n",
    "# One days ahead\n",
    "for i_date in start_dates(test_df,0,30,1):\n",
    "    # execute the function, create candle stick charts and store into the directory\n",
    "    candle_stick(test_df,i_date,30,1,\"test\")"
   ]
  },
  {
   "cell_type": "code",
   "execution_count": 63,
   "metadata": {
    "colab": {
     "base_uri": "https://localhost:8080/",
     "height": 492
    },
    "colab_type": "code",
    "executionInfo": {
     "elapsed": 776,
     "status": "ok",
     "timestamp": 1594536179556,
     "user": {
      "displayName": "hurumori lion",
      "photoUrl": "https://lh3.googleusercontent.com/a-/AOh14GhdS7vZU8_k_9mABC9CpOOAW6yzdTANwM8ukHCk=s64",
      "userId": "15572795402390119545"
     },
     "user_tz": -540
    },
    "id": "nxqHtBmLtRhV",
    "outputId": "cffeedbc-a4c3-4546-9c65-7a8a24926618"
   },
   "outputs": [
    {
     "data": {
      "image/png": "[encoded data removed]",
      "text/plain": [
       "<Figure size 575x575 with 2 Axes>"
      ]
     },
     "metadata": {},
     "output_type": "display_data"
    }
   ],
   "source": [
    "# a sample chart\n",
    "mc = mpf.make_marketcolors(up='g',down='r')\n",
    "s  = mpf.make_mpf_style(marketcolors=mc)\n",
    "mpf.plot(df[10:40],type='candle', mav=13, style=s, figratio=(8,8))"
   ]
  },
  {
   "cell_type": "code",
   "execution_count": 64,
   "metadata": {
    "colab": {
     "base_uri": "https://localhost:8080/",
     "height": 493
    },
    "colab_type": "code",
    "executionInfo": {
     "elapsed": 558,
     "status": "ok",
     "timestamp": 1594536194499,
     "user": {
      "displayName": "hurumori lion",
      "photoUrl": "https://lh3.googleusercontent.com/a-/AOh14GhdS7vZU8_k_9mABC9CpOOAW6yzdTANwM8ukHCk=s64",
      "userId": "15572795402390119545"
     },
     "user_tz": -540
    },
    "id": "-0Q_dbtzDDoK",
    "outputId": "04e756a4-3ece-4a17-b621-f8a6df5913f0"
   },
   "outputs": [
    {
     "data": {
      "image/png": "[encoded data removed]",
      "text/plain": [
       "<Figure size 575x575 with 2 Axes>"
      ]
     },
     "metadata": {},
     "output_type": "display_data"
    }
   ],
   "source": [
    "# a sample chart slinding 10 days\n",
    "mc = mpf.make_marketcolors(up='g',down='r')\n",
    "s  = mpf.make_mpf_style(marketcolors=mc)\n",
    "mpf.plot(df[20:50],type='candle', mav=13, style=s, figratio=(8,8))"
   ]
  },
  {
   "cell_type": "code",
   "execution_count": null,
   "metadata": {
    "colab": {},
    "colab_type": "code",
    "id": "qlzH6RBDw28w"
   },
   "outputs": [],
   "source": []
  }
 ],
 "metadata": {
  "colab": {
   "authorship_tag": "ABX9TyMM3uY81AZY3EMqiLGf9BRJ",
   "collapsed_sections": [],
   "mount_file_id": "1n0Vvx6vUUGUCMfTqUtQQ6R41KjST8Uk4",
   "name": "Candle_stick2.ipynb",
   "provenance": []
  },
  "kernelspec": {
   "display_name": "Python 3",
   "language": "python",
   "name": "python3"
  },
  "language_info": {
   "codemirror_mode": {
    "name": "ipython",
    "version": 3
   },
   "file_extension": ".py",
   "mimetype": "text/x-python",
   "name": "python",
   "nbconvert_exporter": "python",
   "pygments_lexer": "ipython3",
   "version": "3.8.5"
  }
 },
 "nbformat": 4,
 "nbformat_minor": 1
}
